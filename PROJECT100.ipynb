{
  "nbformat": 4,
  "nbformat_minor": 0,
  "metadata": {
    "colab": {
      "provenance": [],
      "authorship_tag": "ABX9TyNXGGnMWvu6bKFEP4Q4rHez",
      "include_colab_link": true
    },
    "kernelspec": {
      "name": "python3",
      "display_name": "Python 3"
    },
    "language_info": {
      "name": "python"
    }
  },
  "cells": [
    {
      "cell_type": "markdown",
      "metadata": {
        "id": "view-in-github",
        "colab_type": "text"
      },
      "source": [
        "<a href=\"https://colab.research.google.com/github/Harshal-Goswami/-THE-INFINITE-RUNNER-GAME/blob/main/PROJECT100.ipynb\" target=\"_parent\"><img src=\"https://colab.research.google.com/assets/colab-badge.svg\" alt=\"Open In Colab\"/></a>"
      ]
    },
    {
      "cell_type": "code",
      "execution_count": 9,
      "metadata": {
        "colab": {
          "base_uri": "https://localhost:8080/"
        },
        "id": "KntY6vVAAiVJ",
        "outputId": "4f80101b-9f57-4325-9dc0-bf0eef85ff29"
      },
      "outputs": [
        {
          "output_type": "stream",
          "name": "stdout",
          "text": [
            "Thanks a lot, you have rated this movie with * * * * *\n"
          ]
        }
      ],
      "source": [
        "class MovieReview:\n",
        "  def __init__(self, movie , story, actors, music):\n",
        "    \n",
        "    self.movie_name = movie\n",
        "    self.story_rating = story\n",
        "    self.actors_rating = actors\n",
        "    self.music_rating = music\n",
        "    self.avg = ((self.story_rating + self.actors_rating + self.music_rating)/3)\n",
        "\n",
        "    \n",
        "    \n",
        "    self.myrating = {\n",
        "        \"Movie Name\" : self.movie_name, \n",
        "        \"Story Rating\" : self.story_rating,\n",
        "        \"Actors Rating\" : self.music_rating,\n",
        "        \"Avg Rating\" : self.avg\n",
        "    }\n",
        "  def add_movie_ratings(self, movie_list):\n",
        "    movie_list.append(self.myrating)\n",
        "\n",
        "  def avgStarRating(self, movie_list):\n",
        "    for movie in movie_list:\n",
        "      if(movie[\"Avg Rating\"] == 1):\n",
        "        print(\"Thanks a lot, you have rated this movie with *\")\n",
        "        \n",
        "      elif(movie[\"Avg Rating\"] == 2):\n",
        "        print(\"Thanks a lot, you have rated this movie with * *\")\n",
        "\n",
        "      elif(movie[\"Avg Rating\"] == 3):\n",
        "        print(\"Thanks a lot, you have rated this movie with * * *\")\n",
        "      elif(movie[\"Avg Rating\"] == 4):\n",
        "        print(\"Thanks a lot, you have rated this movie with * * * *\")  \n",
        "      elif(movie[\"Avg Rating\"] == 5):\n",
        "        print(\"Thanks a lot, you have rated this movie with * * * * *\")\n",
        "moviereviews = []\n",
        "review2 = MovieReview(\"Beautful Sound\", 5, 5, 5)\n",
        "review2.add_movie_ratings(moviereviews)\n",
        "review2.avgStarRating(moviereviews)"
      ]
    },
    {
      "cell_type": "code",
      "source": [],
      "metadata": {
        "id": "8ATXkSvXEJ9L"
      },
      "execution_count": null,
      "outputs": []
    }
  ]
}