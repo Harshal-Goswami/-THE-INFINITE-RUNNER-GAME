{
  "nbformat": 4,
  "nbformat_minor": 0,
  "metadata": {
    "colab": {
      "provenance": [],
      "authorship_tag": "ABX9TyMb4yOpHwT4V9PnlYXapCk7",
      "include_colab_link": true
    },
    "kernelspec": {
      "name": "python3",
      "display_name": "Python 3"
    },
    "language_info": {
      "name": "python"
    }
  },
  "cells": [
    {
      "cell_type": "markdown",
      "metadata": {
        "id": "view-in-github",
        "colab_type": "text"
      },
      "source": [
        "<a href=\"https://colab.research.google.com/github/Harshal-Goswami/-THE-INFINITE-RUNNER-GAME/blob/main/PROJECT_97.ipynb\" target=\"_parent\"><img src=\"https://colab.research.google.com/assets/colab-badge.svg\" alt=\"Open In Colab\"/></a>"
      ]
    },
    {
      "cell_type": "code",
      "execution_count": 12,
      "metadata": {
        "colab": {
          "base_uri": "https://localhost:8080/"
        },
        "id": "VELdz1CKy4GG",
        "outputId": "55a9a47d-0e72-4f3b-bd45-755f5021b329"
      },
      "outputs": [
        {
          "name": "stdout",
          "output_type": "stream",
          "text": [
            "Enter the height in centimetres : 198\n"
          ]
        },
        {
          "output_type": "execute_result",
          "data": {
            "text/plain": [
              "78.012"
            ]
          },
          "metadata": {},
          "execution_count": 12
        }
      ],
      "source": [
        "def convert_height_cm(centimetres):\n",
        "  inches = centimetres *0.394\n",
        "  return inches\n",
        "  feet = centimetres* 0.0328\n",
        "  return feet\n",
        "  \n",
        "\n",
        "cm = int(input(\"Enter the height in centimetres : \"))\n",
        "convert_height_cm(float (cm))"
      ]
    },
    {
      "cell_type": "code",
      "source": [
        "year = int(input(\"Enter year to be checked : \"))\n",
        "\n",
        "if (year % 4 == 0 and year % 100 != 0 or year % 400==0):\n",
        "  print(\"This year is a leap year !\")\n",
        "else:\n",
        "  print(\"This year is not a leap year !\")"
      ],
      "metadata": {
        "id": "Dr4u_bbO0FeA"
      },
      "execution_count": null,
      "outputs": []
    }
  ]
}